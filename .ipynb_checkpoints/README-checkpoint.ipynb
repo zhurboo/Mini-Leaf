{
 "cells": [
  {
   "cell_type": "markdown",
   "metadata": {},
   "source": [
    "# 实验\n",
    "\n",
    "## 数据\n",
    "\n",
    "FEMNIST (另外两个收敛有点问题，暂时不做)\n",
    "\n",
    "## 模型\n",
    "\n",
    "Lenet-5\n",
    "\n",
    "## 算法\n",
    "\n",
    "1. MA(Model Average)\n",
    "\n",
    "2. ASGD(Asynchronous Stochastic Gradient Descent)\n",
    "\n",
    "3. DC_ASGD(Asynchronous Stochastic Gradient Descent with Delay Compensation)\n",
    "\n",
    "## 修改参数 (default.cfg)\n",
    "\n",
    "1. 客户端数量 num_clients\n",
    "\n",
    "2. 批次大小 batch_size (仅针对MA模型)\n",
    "\n",
    "3. deadline分布 round_ddl (仅针对MA模型)\n",
    "\n",
    "4. 模型更新的客户端成功阈值 update_frac (仅针对MA模型)\n",
    "\n",
    "## 指标\n",
    "\n",
    "1. acc\n",
    "\n",
    "2. loss\n",
    "\n",
    "3. 收敛时间 (收敛判断不要用上次的)\n",
    "\n",
    "## 预计结果（可补充）\n",
    "\n",
    "各种模型、参数下的：\n",
    "\n",
    "1. acc、loss 随时间变化曲线\n",
    "\n",
    "2. acc、loss 收敛值比较\n",
    "3. 收敛时间比较\n",
    "\n",
    "## 其他说明\n",
    "\n",
    "模型基于 CPU 跑，"
   ]
  },
  {
   "cell_type": "code",
   "execution_count": null,
   "metadata": {},
   "outputs": [],
   "source": []
  }
 ],
 "metadata": {
  "kernelspec": {
   "display_name": "Python 3",
   "language": "python",
   "name": "python3"
  },
  "language_info": {
   "codemirror_mode": {
    "name": "ipython",
    "version": 3
   },
   "file_extension": ".py",
   "mimetype": "text/x-python",
   "name": "python",
   "nbconvert_exporter": "python",
   "pygments_lexer": "ipython3",
   "version": "3.6.2"
  },
  "toc": {
   "base_numbering": 1,
   "nav_menu": {},
   "number_sections": true,
   "sideBar": true,
   "skip_h1_title": false,
   "title_cell": "Table of Contents",
   "title_sidebar": "Contents",
   "toc_cell": false,
   "toc_position": {},
   "toc_section_display": true,
   "toc_window_display": false
  }
 },
 "nbformat": 4,
 "nbformat_minor": 2
}
